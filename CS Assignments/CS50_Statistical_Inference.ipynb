{
 "cells": [
  {
   "cell_type": "code",
   "execution_count": 34,
   "metadata": {},
   "outputs": [
    {
     "data": {
      "text/html": [
       "<div>\n",
       "<style scoped>\n",
       "    .dataframe tbody tr th:only-of-type {\n",
       "        vertical-align: middle;\n",
       "    }\n",
       "\n",
       "    .dataframe tbody tr th {\n",
       "        vertical-align: top;\n",
       "    }\n",
       "\n",
       "    .dataframe thead th {\n",
       "        text-align: right;\n",
       "    }\n",
       "</style>\n",
       "<table border=\"1\" class=\"dataframe\">\n",
       "  <thead>\n",
       "    <tr style=\"text-align: right;\">\n",
       "      <th></th>\n",
       "      <th>School Name</th>\n",
       "      <th>Region</th>\n",
       "      <th>Starting Median Salary</th>\n",
       "      <th>Mid-Career Median Salary</th>\n",
       "      <th>Mid-Career 10th Percentile Salary</th>\n",
       "      <th>Mid-Career 25th Percentile Salary</th>\n",
       "      <th>Mid-Career 75th Percentile Salary</th>\n",
       "      <th>Mid-Career 90th Percentile Salary</th>\n",
       "    </tr>\n",
       "  </thead>\n",
       "  <tbody>\n",
       "    <tr>\n",
       "      <th>0</th>\n",
       "      <td>Stanford University</td>\n",
       "      <td>California</td>\n",
       "      <td>$70,400.00</td>\n",
       "      <td>$129,000.00</td>\n",
       "      <td>$68,400.00</td>\n",
       "      <td>$93,100.00</td>\n",
       "      <td>$184,000.00</td>\n",
       "      <td>$257,000.00</td>\n",
       "    </tr>\n",
       "    <tr>\n",
       "      <th>1</th>\n",
       "      <td>University of California, Berkeley</td>\n",
       "      <td>California</td>\n",
       "      <td>$59,900.00</td>\n",
       "      <td>$112,000.00</td>\n",
       "      <td>$59,500.00</td>\n",
       "      <td>$81,000.00</td>\n",
       "      <td>$149,000.00</td>\n",
       "      <td>$201,000.00</td>\n",
       "    </tr>\n",
       "    <tr>\n",
       "      <th>2</th>\n",
       "      <td>Cal Poly San Luis Obispo</td>\n",
       "      <td>California</td>\n",
       "      <td>$57,200.00</td>\n",
       "      <td>$101,000.00</td>\n",
       "      <td>$55,000.00</td>\n",
       "      <td>$74,700.00</td>\n",
       "      <td>$133,000.00</td>\n",
       "      <td>$178,000.00</td>\n",
       "    </tr>\n",
       "    <tr>\n",
       "      <th>3</th>\n",
       "      <td>University of California at Los Angeles (UCLA)</td>\n",
       "      <td>California</td>\n",
       "      <td>$52,600.00</td>\n",
       "      <td>$101,000.00</td>\n",
       "      <td>$51,300.00</td>\n",
       "      <td>$72,500.00</td>\n",
       "      <td>$139,000.00</td>\n",
       "      <td>$193,000.00</td>\n",
       "    </tr>\n",
       "    <tr>\n",
       "      <th>4</th>\n",
       "      <td>University of California, San Diego (UCSD)</td>\n",
       "      <td>California</td>\n",
       "      <td>$51,100.00</td>\n",
       "      <td>$101,000.00</td>\n",
       "      <td>$51,700.00</td>\n",
       "      <td>$75,400.00</td>\n",
       "      <td>$131,000.00</td>\n",
       "      <td>$177,000.00</td>\n",
       "    </tr>\n",
       "  </tbody>\n",
       "</table>\n",
       "</div>"
      ],
      "text/plain": [
       "                                      School Name      Region  \\\n",
       "0                             Stanford University  California   \n",
       "1              University of California, Berkeley  California   \n",
       "2                        Cal Poly San Luis Obispo  California   \n",
       "3  University of California at Los Angeles (UCLA)  California   \n",
       "4      University of California, San Diego (UCSD)  California   \n",
       "\n",
       "  Starting Median Salary Mid-Career Median Salary  \\\n",
       "0            $70,400.00              $129,000.00    \n",
       "1            $59,900.00              $112,000.00    \n",
       "2            $57,200.00              $101,000.00    \n",
       "3            $52,600.00              $101,000.00    \n",
       "4            $51,100.00              $101,000.00    \n",
       "\n",
       "  Mid-Career 10th Percentile Salary Mid-Career 25th Percentile Salary  \\\n",
       "0                       $68,400.00                        $93,100.00    \n",
       "1                       $59,500.00                        $81,000.00    \n",
       "2                       $55,000.00                        $74,700.00    \n",
       "3                       $51,300.00                        $72,500.00    \n",
       "4                       $51,700.00                        $75,400.00    \n",
       "\n",
       "  Mid-Career 75th Percentile Salary Mid-Career 90th Percentile Salary  \n",
       "0                      $184,000.00                       $257,000.00   \n",
       "1                      $149,000.00                       $201,000.00   \n",
       "2                      $133,000.00                       $178,000.00   \n",
       "3                      $139,000.00                       $193,000.00   \n",
       "4                      $131,000.00                       $177,000.00   "
      ]
     },
     "execution_count": 34,
     "metadata": {},
     "output_type": "execute_result"
    }
   ],
   "source": [
    "# import neccessary packages\n",
    "\n",
    "import pandas as pd\n",
    "import matplotlib.pyplot as plt\n",
    "import numpy as np\n",
    "from scipy import stats\n",
    "\n",
    "# read from GitHub so anyone an run it without having to worry about where the data is\n",
    "data = pd.read_csv('https://github.com/hussenmi/sales1/raw/master/salaries-by-region.csv')\n",
    "data.head()"
   ]
  },
  {
   "cell_type": "code",
   "execution_count": 35,
   "metadata": {},
   "outputs": [
    {
     "data": {
      "text/html": [
       "<div>\n",
       "<style scoped>\n",
       "    .dataframe tbody tr th:only-of-type {\n",
       "        vertical-align: middle;\n",
       "    }\n",
       "\n",
       "    .dataframe tbody tr th {\n",
       "        vertical-align: top;\n",
       "    }\n",
       "\n",
       "    .dataframe thead th {\n",
       "        text-align: right;\n",
       "    }\n",
       "</style>\n",
       "<table border=\"1\" class=\"dataframe\">\n",
       "  <thead>\n",
       "    <tr style=\"text-align: right;\">\n",
       "      <th></th>\n",
       "      <th>Starting Median Salary</th>\n",
       "    </tr>\n",
       "  </thead>\n",
       "  <tbody>\n",
       "    <tr>\n",
       "      <th>count</th>\n",
       "      <td>273.000000</td>\n",
       "    </tr>\n",
       "    <tr>\n",
       "      <th>mean</th>\n",
       "      <td>46365.201465</td>\n",
       "    </tr>\n",
       "    <tr>\n",
       "      <th>std</th>\n",
       "      <td>6311.007952</td>\n",
       "    </tr>\n",
       "    <tr>\n",
       "      <th>min</th>\n",
       "      <td>34800.000000</td>\n",
       "    </tr>\n",
       "    <tr>\n",
       "      <th>25%</th>\n",
       "      <td>42200.000000</td>\n",
       "    </tr>\n",
       "    <tr>\n",
       "      <th>50%</th>\n",
       "      <td>45300.000000</td>\n",
       "    </tr>\n",
       "    <tr>\n",
       "      <th>75%</th>\n",
       "      <td>48900.000000</td>\n",
       "    </tr>\n",
       "    <tr>\n",
       "      <th>max</th>\n",
       "      <td>72200.000000</td>\n",
       "    </tr>\n",
       "  </tbody>\n",
       "</table>\n",
       "</div>"
      ],
      "text/plain": [
       "       Starting Median Salary\n",
       "count              273.000000\n",
       "mean             46365.201465\n",
       "std               6311.007952\n",
       "min              34800.000000\n",
       "25%              42200.000000\n",
       "50%              45300.000000\n",
       "75%              48900.000000\n",
       "max              72200.000000"
      ]
     },
     "execution_count": 35,
     "metadata": {},
     "output_type": "execute_result"
    }
   ],
   "source": [
    "# clean the data by removing '$' and changing the data type from str to int. THIS FIVE LINES OF CODE SHOULD ONlY BE RUN ONCE\n",
    "\n",
    "data['Starting Median Salary'] = data['Starting Median Salary'].str[1:-4]\n",
    "a = []\n",
    "for i in data['Starting Median Salary']:\n",
    "    a.append(int(i.replace(',','')))\n",
    "data['Starting Median Salary'] = np.array(a)\n",
    "\n",
    "data.describe()"
   ]
  },
  {
   "cell_type": "code",
   "execution_count": 36,
   "metadata": {},
   "outputs": [
    {
     "data": {
      "image/png": "[encoded data removed]",
      "text/plain": [
       "<Figure size 432x360 with 1 Axes>"
      ]
     },
     "metadata": {
      "needs_background": "light"
     },
     "output_type": "display_data"
    }
   ],
   "source": [
    "plt.figure(figsize=(6,5))\n",
    "data['Region'].value_counts().plot(kind='bar')\n",
    "plt.ylabel('Frequency', labelpad=15, fontweight='bold', fontsize=13.5)\n",
    "plt.xlabel('Regions', labelpad=15, fontweight='bold', fontsize=13.5)\n",
    "plt.tight_layout()\n",
    "# plt.savefig('cs1.jpg',dpi=300)\n",
    "plt.show()"
   ]
  },
  {
   "cell_type": "code",
   "execution_count": 37,
   "metadata": {},
   "outputs": [
    {
     "data": {
      "image/png": "[encoded data removed]",
      "text/plain": [
       "<Figure size 432x288 with 1 Axes>"
      ]
     },
     "metadata": {
      "needs_background": "light"
     },
     "output_type": "display_data"
    }
   ],
   "source": [
    "plt.hist(data['Starting Median Salary'])\n",
    "plt.ylabel('Frequency', labelpad=15, fontweight='bold', fontsize=13.5)\n",
    "plt.xlabel('Starting Median Salary', labelpad=15, fontweight='bold', fontsize=13.5)\n",
    "plt.tight_layout()\n",
    "# plt.savefig('cs2.jpg',dpi=300)\n",
    "plt.show()"
   ]
  },
  {
   "cell_type": "code",
   "execution_count": 38,
   "metadata": {},
   "outputs": [
    {
     "data": {
      "image/png": "[encoded data removed]",
      "text/plain": [
       "<Figure size 432x288 with 1 Axes>"
      ]
     },
     "metadata": {
      "needs_background": "light"
     },
     "output_type": "display_data"
    },
    {
     "name": "stdout",
     "output_type": "stream",
     "text": [
      "Mean = 48679.26829268293\n",
      "STD = 7541.322178420395\n",
      "Median = 46700.0\n"
     ]
    }
   ],
   "source": [
    "plt.hist(data[data['Region'] == 'Northeastern']['Starting Median Salary'])\n",
    "plt.ylabel('Frequency', labelpad=15, fontweight='bold', fontsize=13.5)\n",
    "plt.xlabel('Starting Median Salary (Northeastern)', labelpad=15, fontweight='bold', fontsize=13.5)\n",
    "plt.tight_layout()\n",
    "# plt.savefig('cs3.jpg',dpi=300)\n",
    "plt.show()\n",
    "\n",
    "print(f\"Mean = {np.mean(data[data['Region'] == 'Northeastern']['Starting Median Salary'])}\")\n",
    "print(f\"STD = {np.std(data[data['Region'] == 'Northeastern']['Starting Median Salary'],ddof=1)}\") #apply Bessel's correction\n",
    "print(f\"Median = {np.median(data[data['Region'] == 'Northeastern']['Starting Median Salary'])}\")"
   ]
  },
  {
   "cell_type": "code",
   "execution_count": 39,
   "metadata": {},
   "outputs": [
    {
     "data": {
      "image/png": "[encoded data removed]",
      "text/plain": [
       "<Figure size 432x288 with 1 Axes>"
      ]
     },
     "metadata": {
      "needs_background": "light"
     },
     "output_type": "display_data"
    },
    {
     "name": "stdout",
     "output_type": "stream",
     "text": [
      "Mean = 44932.35294117647\n",
      "STD = 3784.4755121364947\n",
      "Median = 45000.0\n"
     ]
    }
   ],
   "source": [
    "plt.hist(data[data['Region'] == 'Western']['Starting Median Salary'])\n",
    "plt.ylabel('Frequency', labelpad=15, fontweight='bold', fontsize=13.5)\n",
    "plt.xlabel('Starting Median Salary (Western)', labelpad=15, fontweight='bold', fontsize=13.5)\n",
    "plt.tight_layout()\n",
    "# plt.savefig('cs4.jpg',dpi=300)\n",
    "plt.show()\n",
    "\n",
    "print(f\"Mean = {np.mean(data[data['Region'] == 'Western']['Starting Median Salary'])}\")\n",
    "print(f\"STD = {np.std(data[data['Region'] == 'Western']['Starting Median Salary'],ddof=1)}\") #apply Bessel's correction\n",
    "print(f\"Median = {np.median(data[data['Region'] == 'Western']['Starting Median Salary'])}\")"
   ]
  },
  {
   "cell_type": "code",
   "execution_count": 40,
   "metadata": {},
   "outputs": [
    {
     "data": {
      "image/png": "[encoded data removed]",
      "text/plain": [
       "<Figure size 432x288 with 1 Axes>"
      ]
     },
     "metadata": {
      "needs_background": "light"
     },
     "output_type": "display_data"
    },
    {
     "name": "stdout",
     "output_type": "stream",
     "text": [
      "Mean = 44460.9375\n",
      "STD = 5149.4372380919085\n",
      "Median = 43200.0\n"
     ]
    }
   ],
   "source": [
    "plt.hist(data[data['Region'] == 'Midwestern']['Starting Median Salary'])\n",
    "plt.ylabel('Frequency', labelpad=15, fontweight='bold', fontsize=13.5)\n",
    "plt.xlabel('Starting Median Salary (Midwestern)', labelpad=15, fontweight='bold', fontsize=13.5)\n",
    "plt.tight_layout()\n",
    "# plt.savefig('cs5.jpg',dpi=300)\n",
    "plt.show()\n",
    "\n",
    "print(f\"Mean = {np.mean(data[data['Region'] == 'Midwestern']['Starting Median Salary'])}\")\n",
    "print(f\"STD = {np.std(data[data['Region'] == 'Midwestern']['Starting Median Salary'],ddof=1)}\") #apply Bessel's correction\n",
    "print(f\"Median = {np.median(data[data['Region'] == 'Midwestern']['Starting Median Salary'])}\")"
   ]
  },
  {
   "cell_type": "code",
   "execution_count": 41,
   "metadata": {},
   "outputs": [],
   "source": [
    "northeast = data[data['Region'] == 'Northeastern']['Starting Median Salary']\n",
    "west = data[data['Region'] == 'Western']['Starting Median Salary']\n",
    "midwest = data[data['Region'] == 'Midwestern']['Starting Median Salary']"
   ]
  },
  {
   "cell_type": "code",
   "execution_count": 42,
   "metadata": {},
   "outputs": [
    {
     "name": "stdout",
     "output_type": "stream",
     "text": [
      "95.0% confidence interval: 48679.26829268293 ± 1657.01 = (47022.25829268293, 50336.27829268293)\n",
      "95.0% confidence interval: 44932.35294117647 ± 1320.466 = (43611.88694117647, 46252.81894117647)\n",
      "95.0% confidence interval: 44460.9375 ± 1286.291 = (43174.6465, 45747.2285)\n"
     ]
    }
   ],
   "source": [
    "# This function can calculate confidence intervals from just one sample or for the difference between two groups. Every \n",
    "# variable is set to 0 by default and if the user enters values for a single confidence interval, it will work that way, \n",
    "# and if the user enters values for the confidence interval between means,it will work that way too. The function can accept\n",
    "# confidence interval in percent or the t-critical value because it can calculate one from the other.\n",
    "\n",
    "def ci_mean(x=0,n=0,ssd=0,x1=0,n1=0,ssd1=0,x2=0,n2=0,ssd2=0,ci='not_specified',tcrt='not_specified'):\n",
    "    if x == 0:  # x=0 means the user wants confidence interval for difference of means\n",
    "        if ci != 'not_specified':\n",
    "            df = (n1-1)+(n2-1)\n",
    "            tcrt = stats.t.ppf(ci+(1-ci)/2,df)\n",
    "        else:\n",
    "            df = (n1-1)+(n2-1)\n",
    "            ci = round(1-(1-stats.t.cdf(tcrt,df))*2,2)\n",
    "\n",
    "        se = (ssd1**2/n1 + ssd2**2/n2)**0.5  # standard error for difference bewteen two means\n",
    "        me = round(tcrt*se,3)\n",
    "        low = round(x1-x2,3)-me\n",
    "        up = round(x1-x2,3)+me\n",
    "        interval = (low,up)\n",
    "\n",
    "        print(f\"{ci*100}% confidence interval: {round(x1-x2,3)} ± {me} = {interval}\")\n",
    "    else:  # if the user wants confidence interval from a single sample\n",
    "        if ci != 'not_specified':\n",
    "            tcrt = stats.t.ppf(ci+(1-ci)/2,n-1)\n",
    "        else:\n",
    "            ci = round(1-(1-stats.t.cdf(tcrt,n-1))*2,2)\n",
    "\n",
    "        se = ssd/(n)**0.5  # standard error from a single sample\n",
    "        me = round(tcrt*se,3)\n",
    "        low = x-me\n",
    "        up = x+me\n",
    "        interval = (low, up)\n",
    "\n",
    "        print(f\"{ci*100}% confidence interval: {x} ± {me} = {interval}\")\n",
    "        \n",
    "        \n",
    "xne,xwe,xmid=np.mean(northeast),np.mean(west),np.mean(midwest) # calculate the mean for the three regions\n",
    "sne,swe,smid=np.std(northeast,ddof=1),np.std(west,ddof=1),np.std(midwest,ddof=1) # calculate the std for the three regions\n",
    "nne,nwe,nmid=len(northeast),len(west),len(midwest) # figure of the sample size for the three regions\n",
    "        \n",
    "        \n",
    "ci_mean(x=xne,ssd=sne,n=nne,ci=0.95) # confidence interval for the mean of starting median salary in Northeastern region\n",
    "ci_mean(x=xwe,ssd=swe,n=nwe,ci=0.95) # confidence interval for the mean of starting median salary in Western region\n",
    "ci_mean(x=xmid,ssd=smid,n=nmid,ci=0.95) # confidence interval for the mean of starting median salary in Midwestern region"
   ]
  },
  {
   "cell_type": "code",
   "execution_count": 43,
   "metadata": {},
   "outputs": [
    {
     "name": "stdout",
     "output_type": "stream",
     "text": [
      "95.0% confidence interval: 4218.331 ± 2080.46 = (2137.871, 6298.791)\n",
      "95.0% confidence interval: 3746.915 ± 2091.611 = (1655.304, 5838.526)\n"
     ]
    }
   ],
   "source": [
    "# the function being called is the same for the ones that calculate the confidence interval from a single sample; here, it\n",
    "# just takes more arguments. Here, the function is being called using the values created above.\n",
    "\n",
    "ci_mean(x1=xne,ssd1=sne,n1=nne,x2=xmid,ssd2=smid,n2=nmid,ci=0.95) # confidence interval for d/ce b/n northeast & midwest\n",
    "ci_mean(x1=xne,ssd1=sne,n1=nne,x2=xwe,ssd2=swe,n2=nwe,ci=0.95) # confidence interval for d/ce b/n northeast & west"
   ]
  },
  {
   "cell_type": "code",
   "execution_count": 44,
   "metadata": {},
   "outputs": [
    {
     "name": "stdout",
     "output_type": "stream",
     "text": [
      "t = 4.008\n",
      "p-value = 0.0001\n",
      "Reject hypothesis!\n",
      "Effect size: d = 0.639\n",
      "Effect size: Hedge's g = 0.636\n",
      "p-value = 0.0001\n"
     ]
    }
   ],
   "source": [
    "# This function can do a hyothesis test on a single mean and on difference of means. If the first four parameters are given,\n",
    "# the user wants a hypothesis test on a single mean; if they provide, thwo differnet samples as a list, they want hypothesis\n",
    "# test on difference of means. By default, significance value is 0.05, but one can change it as needed. Tails is also 1 by \n",
    "# default, but one can change it as needed. In this case, tails = 1 for the first test and it becomes 2 for the secong test.\n",
    "# The significnce level also changes from 0.05 to 0.025 because we applied the Bonferroni correction to avoid p-hacking. The\n",
    "# function works by calculating the impt values from the samples and then calculating the standard error,t-value and p-value\n",
    "# and finally comapres it with the significance level. If the result is statistically significant, it also calculates for \n",
    "# practical significance using Cohen's d and Hedge's g. It also tells us whether or not we should reject our null hypothesis\n",
    "\n",
    "def significance_mean(x=0,n=0,s=0,pmean=0,sample1=0,sample2=0,sig_value=0.05,tails=1):\n",
    "    if x == 0:  # if the user chooses hypothesis test for difference of means\n",
    "        n1 = len(sample1)\n",
    "        n2 = len(sample2)\n",
    "        x1 = np.mean(sample1)\n",
    "        x2 = np.mean(sample2)\n",
    "        s1 = np.std(sample1,ddof=1) # apply Bessel's correction\n",
    "        s2 = np.std(sample2,ddof=1)\n",
    "        se = (s1**2/n1 + s2**2/n2)**0.5  # standard error for difference of means\n",
    "        tval = (x1-x2)/se\n",
    "        df = min(n1,n2) - 1  # conservative df value\n",
    "        p_value = stats.t.cdf(tval,df)\n",
    "    else:  # if the user chooses hypothesis test on a single mean\n",
    "        tval = (x-pmean)/(s/(n)**0.5)\n",
    "        p_value = stats.t.cdf(tval,n-1)\n",
    "        \n",
    "    print('t =', round(tval,3))\n",
    "    if p_value < 0.5:  # correct p-value since stats.t.cdf gives us cumulative values\n",
    "        print('p-value =', round(p_value,4))\n",
    "    else:\n",
    "        p_value = 1-p_value\n",
    "        print('p-value =', round(p_value,4))\n",
    "        \n",
    "    \n",
    "    if tails == 2:  # for 2 tail\n",
    "        p_value = p_value*2\n",
    "        if p_value < sig_value:\n",
    "            print(f\"Reject hypothesis!\")\n",
    "            spop = (((n1-1)*s1**2 + (n2-1)*s2**2)/(n1+n2-2))**0.5  # denominator for Cohen's d\n",
    "            d = (x1-x2)/spop\n",
    "            g = d * (1-(3/(4*(n1+n2)-9)))  # calculating Hedge's g\n",
    "            print(f\"Effect size: Cohen's d = {round(d,3)}\")\n",
    "            print(f\"Effect size: Hedge's g = {round(g,3)}\")\n",
    "        else:\n",
    "            print(f\"Fail to reject hypothesis!\") \n",
    "    else:  # for 1 tail\n",
    "        if p_value < sig_value:\n",
    "            print(f\"Reject hypothesis!\")\n",
    "            spop = (((n1-1)*s1**2 + (n2-1)*s2**2)/(n1+n2-2))**0.5 # denominator for Cohen's d\n",
    "            d = (x1-x2)/spop\n",
    "            g = d * (1-(3/(4*(n1+n2)-9)))  # calculating Hedge's g\n",
    "            print(f\"Effect size: d = {round(d,3)}\")\n",
    "            print(f\"Effect size: Hedge's g = {round(g,3)}\")\n",
    "        else:\n",
    "            print(f\"Fail to reject hypothesis!\") \n",
    "\n",
    "            \n",
    "            \n",
    "    if p_value < 0.5:  # print the p-value after it's been adjusted for number of tails\n",
    "        print('p-value =', round(p_value,4))\n",
    "    else:\n",
    "        print('p-value =', round(p_value,4))\n",
    "            \n",
    "\n",
    "# calling the function for difference of means test. The samples are Northeastern and Midwestern. \n",
    "# The Bonferroni correction is also applied\n",
    "significance_mean(sample1=northeast,sample2=midwest,sig_value=0.05/2)"
   ]
  },
  {
   "cell_type": "code",
   "execution_count": 45,
   "metadata": {},
   "outputs": [
    {
     "name": "stdout",
     "output_type": "stream",
     "text": [
      "t = 3.549\n",
      "p-value = 0.0006\n",
      "Reject hypothesis!\n",
      "Effect size: Cohen's d = 0.561\n",
      "Effect size: Hedge's g = 0.558\n",
      "p-value = 0.0012\n"
     ]
    }
   ],
   "source": [
    "# calling the function for difference of means test. The samples are Northeastern and Western. \n",
    "# The Bonferroni correction is applied and the test is also two-tailed.\n",
    "significance_mean(sample1=northeast,sample2=west,tails=2,sig_value=0.05/2)"
   ]
  },
  {
   "cell_type": "code",
   "execution_count": null,
   "metadata": {},
   "outputs": [],
   "source": []
  }
 ],
 "metadata": {
  "kernelspec": {
   "display_name": "Python 3",
   "language": "python",
   "name": "python3"
  },
  "language_info": {
   "codemirror_mode": {
    "name": "ipython",
    "version": 3
   },
   "file_extension": ".py",
   "mimetype": "text/x-python",
   "name": "python",
   "nbconvert_exporter": "python",
   "pygments_lexer": "ipython3",
   "version": "3.8.5"
  }
 },
 "nbformat": 4,
 "nbformat_minor": 4
}
